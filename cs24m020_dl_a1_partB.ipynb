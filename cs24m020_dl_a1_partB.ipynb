{
  "metadata": {
    "kernelspec": {
      "language": "python",
      "display_name": "Python 3",
      "name": "python3"
    },
    "language_info": {
      "name": "python",
      "version": "3.11.11",
      "mimetype": "text/x-python",
      "codemirror_mode": {
        "name": "ipython",
        "version": 3
      },
      "pygments_lexer": "ipython3",
      "nbconvert_exporter": "python",
      "file_extension": ".py"
    },
    "kaggle": {
      "accelerator": "gpu",
      "dataSources": [],
      "dockerImageVersionId": 31011,
      "isInternetEnabled": true,
      "language": "python",
      "sourceType": "notebook",
      "isGpuEnabled": true
    },
    "colab": {
      "name": "cs24m020_dl_a1_partB",
      "provenance": [],
      "include_colab_link": true
    }
  },
  "nbformat_minor": 0,
  "nbformat": 4,
  "cells": [
    {
      "cell_type": "markdown",
      "metadata": {
        "id": "view-in-github",
        "colab_type": "text"
      },
      "source": [
        "<a href=\"https://colab.research.google.com/github/ragingthunder511/da6401_assignment2/blob/main/cs24m020_dl_a1_partB.ipynb\" target=\"_parent\"><img src=\"https://colab.research.google.com/assets/colab-badge.svg\" alt=\"Open In Colab\"/></a>"
      ]
    },
    {
      "cell_type": "code",
      "source": [
        "# !pip install wandb\n",
        "import wandb\n",
        "# !wandb login\n",
        "wandb.login(key=\"01bb56b62b8d93215a878ebdbc41b79e456d010c\")\n",
        "\n",
        "#01bb56b62b8d93215a878ebdbc41b79e456d010c"
      ],
      "metadata": {
        "_uuid": "8f2839f25d086af736a60e9eeb907d3b93b6e0e5",
        "_cell_guid": "b1076dfc-b9ad-4769-8c92-a6c4dae69d19",
        "trusted": true,
        "execution": {
          "iopub.status.busy": "2025-04-19T15:16:07.297639Z",
          "iopub.execute_input": "2025-04-19T15:16:07.29787Z",
          "iopub.status.idle": "2025-04-19T15:16:15.932256Z",
          "shell.execute_reply.started": "2025-04-19T15:16:07.297843Z",
          "shell.execute_reply": "2025-04-19T15:16:15.931651Z"
        },
        "id": "pIcQXcUeF0LT",
        "outputId": "ff01daf1-da48-42ec-9b41-e42956ef3391"
      },
      "outputs": [
        {
          "name": "stderr",
          "text": "\u001b[34m\u001b[1mwandb\u001b[0m: \u001b[33mWARNING\u001b[0m If you're specifying your api key in code, ensure this code is not shared publicly.\n\u001b[34m\u001b[1mwandb\u001b[0m: \u001b[33mWARNING\u001b[0m Consider setting the WANDB_API_KEY environment variable, or running `wandb login` from the command line.\n\u001b[34m\u001b[1mwandb\u001b[0m: Appending key for api.wandb.ai to your netrc file: /root/.netrc\n\u001b[34m\u001b[1mwandb\u001b[0m: Currently logged in as: \u001b[33mkarekargrishma1234\u001b[0m (\u001b[33mkarekargrishma1234-iit-madras-\u001b[0m) to \u001b[32mhttps://api.wandb.ai\u001b[0m. Use \u001b[1m`wandb login --relogin`\u001b[0m to force relogin\n",
          "output_type": "stream"
        },
        {
          "execution_count": 1,
          "output_type": "execute_result",
          "data": {
            "text/plain": "True"
          },
          "metadata": {}
        }
      ],
      "execution_count": null
    },
    {
      "cell_type": "code",
      "source": [
        "!wget https://storage.googleapis.com/wandb_datasets/nature_12K.zip -O nature_12K.zip\n",
        "!unzip -q nature_12K.zip\n",
        "!rm nature_12K.zip"
      ],
      "metadata": {
        "trusted": true,
        "execution": {
          "iopub.status.busy": "2025-04-19T15:19:20.020679Z",
          "iopub.execute_input": "2025-04-19T15:19:20.021447Z",
          "iopub.status.idle": "2025-04-19T15:21:20.004519Z",
          "shell.execute_reply.started": "2025-04-19T15:19:20.021409Z",
          "shell.execute_reply": "2025-04-19T15:21:20.002957Z"
        },
        "id": "GnlCwXI6F0LW",
        "outputId": "4202af19-d6d8-48e4-97c6-5ce8befe0691"
      },
      "outputs": [
        {
          "name": "stdout",
          "text": "--2025-04-19 15:19:20--  https://storage.googleapis.com/wandb_datasets/nature_12K.zip\nResolving storage.googleapis.com (storage.googleapis.com)... 142.250.153.207, 142.251.18.207, 108.177.119.207, ...\nConnecting to storage.googleapis.com (storage.googleapis.com)|142.250.153.207|:443... connected.\nHTTP request sent, awaiting response... 200 OK\nLength: 3816687935 (3.6G) [application/zip]\nSaving to: ‘nature_12K.zip’\n\nnature_12K.zip      100%[===================>]   3.55G  38.9MB/s    in 91s     \n\n2025-04-19 15:20:52 (39.9 MB/s) - ‘nature_12K.zip’ saved [3816687935/3816687935]\n\n",
          "output_type": "stream"
        }
      ],
      "execution_count": null
    },
    {
      "cell_type": "code",
      "source": [
        "import torch\n",
        "import torch.nn as nn\n",
        "import torch.optim as optim\n",
        "from torchvision import datasets, models, transforms\n",
        "from torch.utils.data import DataLoader, random_split\n",
        "import wandb\n",
        "\n",
        "# Use your best config\n",
        "BEST_CONFIG = {\n",
        "    'weight_decay': 0,\n",
        "    'learning_rate': 1e-4,\n",
        "    'dropout': 0.4,\n",
        "    'activation': 'relu',\n",
        "    'optimiser': 'rmsprop',\n",
        "    'batch_norm': 'true',\n",
        "    'batch_size': 32,\n",
        "    'dense_layer': 256\n",
        "}\n",
        "\n",
        "# Initialize wandb\n",
        "wandb.init(project='cs24m020_dl_a2_partB', config=BEST_CONFIG)\n",
        "config = wandb.config\n",
        "\n",
        "# Transforms to match ImageNet pretrained input format\n",
        "common_transforms = transforms.Compose([\n",
        "    transforms.Resize((224, 224)),\n",
        "    transforms.ToTensor(),\n",
        "    transforms.Normalize(mean=[0.485, 0.456, 0.406],\n",
        "                         std=[0.229, 0.224, 0.225]),\n",
        "])\n",
        "\n",
        "train_transforms = transforms.Compose([\n",
        "    transforms.Resize((224, 224)),\n",
        "    transforms.RandomHorizontalFlip(),\n",
        "    transforms.ToTensor(),\n",
        "    transforms.Normalize(mean=[0.485, 0.456, 0.406],\n",
        "                         std=[0.229, 0.224, 0.225]),\n",
        "])\n",
        "\n",
        "# Load the full dataset from train folder\n",
        "full_dataset = datasets.ImageFolder('inaturalist_12K/train', transform=train_transforms)\n",
        "\n",
        "# Split into 80% train and 20% validation\n",
        "train_size = int(0.8 * len(full_dataset))\n",
        "val_size = len(full_dataset) - train_size\n",
        "train_dataset, val_dataset = random_split(full_dataset, [train_size, val_size])\n",
        "\n",
        "# Apply non-augmented transforms to validation dataset\n",
        "val_dataset.dataset.transform = common_transforms\n",
        "\n",
        "# Load test dataset from 'val' folder (used as test set)\n",
        "test_dataset = datasets.ImageFolder('inaturalist_12K/val', transform=common_transforms)\n",
        "\n",
        "# DataLoaders\n",
        "train_loader = DataLoader(train_dataset, batch_size=config.batch_size, shuffle=True)\n",
        "val_loader = DataLoader(val_dataset, batch_size=config.batch_size)\n",
        "test_loader = DataLoader(test_dataset, batch_size=config.batch_size)\n",
        "\n",
        "# Load pretrained model\n",
        "model = models.resnet50(pretrained=True)\n",
        "\n",
        "# Freeze base layers\n",
        "for param in model.parameters():\n",
        "    param.requires_grad = False\n",
        "\n",
        "# Activation function\n",
        "activation_fn = nn.ReLU() if config.activation == 'relu' else nn.Tanh()\n",
        "\n",
        "# Build classifier head\n",
        "head_layers = [\n",
        "    nn.Dropout(config.dropout),\n",
        "    nn.Linear(model.fc.in_features, config.dense_layer)\n",
        "]\n",
        "if config.batch_norm == 'true':\n",
        "    head_layers.append(nn.BatchNorm1d(config.dense_layer))\n",
        "head_layers.extend([\n",
        "    activation_fn,\n",
        "    nn.Linear(config.dense_layer, 10)\n",
        "])\n",
        "model.fc = nn.Sequential(*head_layers)\n",
        "\n",
        "device = torch.device(\"cuda\" if torch.cuda.is_available() else \"cpu\")\n",
        "model = model.to(device)\n",
        "\n",
        "# Loss and optimizer\n",
        "criterion = nn.CrossEntropyLoss()\n",
        "if config.optimiser == 'rmsprop':\n",
        "    optimizer = optim.RMSprop(model.fc.parameters(), lr=config.learning_rate, weight_decay=config.weight_decay)\n",
        "elif config.optimiser == 'adam':\n",
        "    optimizer = optim.Adam(model.fc.parameters(), lr=config.learning_rate, weight_decay=config.weight_decay)\n",
        "else:\n",
        "    optimizer = optim.SGD(model.fc.parameters(), lr=config.learning_rate, weight_decay=config.weight_decay)\n",
        "\n",
        "# Train and validate functions\n",
        "def train(model, loader, optimizer, criterion, device):\n",
        "    model.train()\n",
        "    total_loss, correct, total = 0, 0, 0\n",
        "    for inputs, labels in loader:\n",
        "        inputs, labels = inputs.to(device), labels.to(device)\n",
        "        optimizer.zero_grad()\n",
        "        outputs = model(inputs)\n",
        "        loss = criterion(outputs, labels)\n",
        "        loss.backward()\n",
        "        optimizer.step()\n",
        "        total_loss += loss.item()\n",
        "        _, preds = outputs.max(1)\n",
        "        correct += (preds == labels).sum().item()\n",
        "        total += labels.size(0)\n",
        "    return total_loss / len(loader), correct / total\n",
        "\n",
        "def evaluate(model, loader, criterion, device):\n",
        "    model.eval()\n",
        "    total_loss, correct, total = 0, 0, 0\n",
        "    with torch.no_grad():\n",
        "        for inputs, labels in loader:\n",
        "            inputs, labels = inputs.to(device), labels.to(device)\n",
        "            outputs = model(inputs)\n",
        "            loss = criterion(outputs, labels)\n",
        "            total_loss += loss.item()\n",
        "            _, preds = outputs.max(1)\n",
        "            correct += (preds == labels).sum().item()\n",
        "            total += labels.size(0)\n",
        "    return total_loss / len(loader), correct / total\n",
        "\n",
        "# Training loop\n",
        "EPOCHS = 10\n",
        "for epoch in range(EPOCHS):\n",
        "    train_loss, train_acc = train(model, train_loader, optimizer, criterion, device)\n",
        "    val_loss, val_acc = evaluate(model, val_loader, criterion, device)\n",
        "\n",
        "    train_acc *= 100\n",
        "    val_acc *= 100\n",
        "\n",
        "    print(f\"Epoch {epoch+1}:Train Loss={train_loss:.4f},Train Acc={train_acc:.4f},Val Loss={val_loss:.4f}, Val Acc={val_acc:.4f}\")\n",
        "    wandb.log({\n",
        "        'epoch': epoch + 1,\n",
        "        'train_loss': train_loss,\n",
        "        'train_accuracy': train_acc,\n",
        "        'val_loss': val_loss,\n",
        "        'val_accuracy': val_acc\n",
        "    })\n",
        "\n",
        "# Test evaluation\n",
        "test_loss, test_acc = evaluate(model, test_loader, criterion, device)\n",
        "test_acc *= 100\n",
        "\n",
        "print(f\"\\n✅ Test Loss: {test_loss:.4f}\")\n",
        "print(f\"✅ Test Accuracy: {test_acc:.4f}\")\n",
        "\n",
        "wandb.log({\n",
        "    'test_loss': test_loss,\n",
        "    'test_accuracy': test_acc\n",
        "})\n",
        "\n",
        "# Save model\n",
        "torch.save(model.state_dict(), \"finetuned_resnet50.pth\")\n",
        "wandb.save(\"finetuned_resnet50.pth\")\n",
        "wandb.finish()"
      ],
      "metadata": {
        "trusted": true,
        "execution": {
          "iopub.status.busy": "2025-04-19T15:21:20.006726Z",
          "iopub.execute_input": "2025-04-19T15:21:20.007109Z",
          "iopub.status.idle": "2025-04-19T15:40:54.685161Z",
          "shell.execute_reply.started": "2025-04-19T15:21:20.007074Z",
          "shell.execute_reply": "2025-04-19T15:40:54.684574Z"
        },
        "id": "I1sce9DxF0LY",
        "outputId": "17cbcfb1-9e07-4f0b-87a0-9a42854ad990"
      },
      "outputs": [
        {
          "name": "stderr",
          "text": "\u001b[34m\u001b[1mwandb\u001b[0m: Using wandb-core as the SDK backend.  Please refer to https://wandb.me/wandb-core for more information.\n",
          "output_type": "stream"
        },
        {
          "output_type": "display_data",
          "data": {
            "text/plain": "<IPython.core.display.HTML object>",
            "text/html": "Tracking run with wandb version 0.19.6"
          },
          "metadata": {}
        },
        {
          "output_type": "display_data",
          "data": {
            "text/plain": "<IPython.core.display.HTML object>",
            "text/html": "Run data is saved locally in <code>/kaggle/working/wandb/run-20250419_152128-2t74zbqf</code>"
          },
          "metadata": {}
        },
        {
          "output_type": "display_data",
          "data": {
            "text/plain": "<IPython.core.display.HTML object>",
            "text/html": "Syncing run <strong><a href='https://wandb.ai/karekargrishma1234-iit-madras-/cs24m020_dl_a2_partB/runs/2t74zbqf' target=\"_blank\">twilight-energy-4</a></strong> to <a href='https://wandb.ai/karekargrishma1234-iit-madras-/cs24m020_dl_a2_partB' target=\"_blank\">Weights & Biases</a> (<a href='https://wandb.me/developer-guide' target=\"_blank\">docs</a>)<br>"
          },
          "metadata": {}
        },
        {
          "output_type": "display_data",
          "data": {
            "text/plain": "<IPython.core.display.HTML object>",
            "text/html": " View project at <a href='https://wandb.ai/karekargrishma1234-iit-madras-/cs24m020_dl_a2_partB' target=\"_blank\">https://wandb.ai/karekargrishma1234-iit-madras-/cs24m020_dl_a2_partB</a>"
          },
          "metadata": {}
        },
        {
          "output_type": "display_data",
          "data": {
            "text/plain": "<IPython.core.display.HTML object>",
            "text/html": " View run at <a href='https://wandb.ai/karekargrishma1234-iit-madras-/cs24m020_dl_a2_partB/runs/2t74zbqf' target=\"_blank\">https://wandb.ai/karekargrishma1234-iit-madras-/cs24m020_dl_a2_partB/runs/2t74zbqf</a>"
          },
          "metadata": {}
        },
        {
          "name": "stderr",
          "text": "/usr/local/lib/python3.11/dist-packages/torchvision/models/_utils.py:208: UserWarning: The parameter 'pretrained' is deprecated since 0.13 and may be removed in the future, please use 'weights' instead.\n  warnings.warn(\n/usr/local/lib/python3.11/dist-packages/torchvision/models/_utils.py:223: UserWarning: Arguments other than a weight enum or `None` for 'weights' are deprecated since 0.13 and may be removed in the future. The current behavior is equivalent to passing `weights=ResNet50_Weights.IMAGENET1K_V1`. You can also use `weights=ResNet50_Weights.DEFAULT` to get the most up-to-date weights.\n  warnings.warn(msg)\nDownloading: \"https://download.pytorch.org/models/resnet50-0676ba61.pth\" to /root/.cache/torch/hub/checkpoints/resnet50-0676ba61.pth\n100%|██████████| 97.8M/97.8M [00:00<00:00, 190MB/s]\n",
          "output_type": "stream"
        },
        {
          "name": "stdout",
          "text": "Epoch 1:Train Loss=1.1989,Train Acc=64.8581,Val Loss=0.9094, Val Acc=73.4000\nEpoch 2:Train Loss=0.9262,Train Acc=71.2464,Val Loss=0.8254, Val Acc=74.1500\nEpoch 3:Train Loss=0.8527,Train Acc=72.3215,Val Loss=0.7921, Val Acc=75.1000\nEpoch 4:Train Loss=0.8044,Train Acc=73.9342,Val Loss=0.7652, Val Acc=75.9500\nEpoch 5:Train Loss=0.7749,Train Acc=74.2718,Val Loss=0.7513, Val Acc=76.0500\nEpoch 6:Train Loss=0.7524,Train Acc=74.7093,Val Loss=0.7486, Val Acc=75.2000\nEpoch 7:Train Loss=0.7339,Train Acc=75.3094,Val Loss=0.7540, Val Acc=75.7000\nEpoch 8:Train Loss=0.7300,Train Acc=75.8470,Val Loss=0.7373, Val Acc=76.4500\nEpoch 9:Train Loss=0.6966,Train Acc=76.9471,Val Loss=0.7332, Val Acc=76.1000\nEpoch 10:Train Loss=0.6923,Train Acc=76.6346,Val Loss=0.7322, Val Acc=76.0500\n\n✅ Test Loss: 0.6791\n✅ Test Accuracy: 78.0000\n",
          "output_type": "stream"
        },
        {
          "output_type": "display_data",
          "data": {
            "text/plain": "<IPython.core.display.HTML object>",
            "text/html": ""
          },
          "metadata": {}
        },
        {
          "output_type": "display_data",
          "data": {
            "text/plain": "<IPython.core.display.HTML object>",
            "text/html": "<br>    <style><br>        .wandb-row {<br>            display: flex;<br>            flex-direction: row;<br>            flex-wrap: wrap;<br>            justify-content: flex-start;<br>            width: 100%;<br>        }<br>        .wandb-col {<br>            display: flex;<br>            flex-direction: column;<br>            flex-basis: 100%;<br>            flex: 1;<br>            padding: 10px;<br>        }<br>    </style><br><div class=\"wandb-row\"><div class=\"wandb-col\"><h3>Run history:</h3><br/><table class=\"wandb\"><tr><td>epoch</td><td>▁▂▃▃▄▅▆▆▇█</td></tr><tr><td>test_accuracy</td><td>▁</td></tr><tr><td>test_loss</td><td>▁</td></tr><tr><td>train_accuracy</td><td>▁▅▅▆▆▇▇▇██</td></tr><tr><td>train_loss</td><td>█▄▃▃▂▂▂▂▁▁</td></tr><tr><td>val_accuracy</td><td>▁▃▅▇▇▅▆█▇▇</td></tr><tr><td>val_loss</td><td>█▅▃▂▂▂▂▁▁▁</td></tr></table><br/></div><div class=\"wandb-col\"><h3>Run summary:</h3><br/><table class=\"wandb\"><tr><td>epoch</td><td>10</td></tr><tr><td>test_accuracy</td><td>78</td></tr><tr><td>test_loss</td><td>0.67914</td></tr><tr><td>train_accuracy</td><td>76.63458</td></tr><tr><td>train_loss</td><td>0.69226</td></tr><tr><td>val_accuracy</td><td>76.05</td></tr><tr><td>val_loss</td><td>0.73224</td></tr></table><br/></div></div>"
          },
          "metadata": {}
        },
        {
          "output_type": "display_data",
          "data": {
            "text/plain": "<IPython.core.display.HTML object>",
            "text/html": " View run <strong style=\"color:#cdcd00\">twilight-energy-4</strong> at: <a href='https://wandb.ai/karekargrishma1234-iit-madras-/cs24m020_dl_a2_partB/runs/2t74zbqf' target=\"_blank\">https://wandb.ai/karekargrishma1234-iit-madras-/cs24m020_dl_a2_partB/runs/2t74zbqf</a><br> View project at: <a href='https://wandb.ai/karekargrishma1234-iit-madras-/cs24m020_dl_a2_partB' target=\"_blank\">https://wandb.ai/karekargrishma1234-iit-madras-/cs24m020_dl_a2_partB</a><br>Synced 5 W&B file(s), 0 media file(s), 0 artifact file(s) and 1 other file(s)"
          },
          "metadata": {}
        },
        {
          "output_type": "display_data",
          "data": {
            "text/plain": "<IPython.core.display.HTML object>",
            "text/html": "Find logs at: <code>./wandb/run-20250419_152128-2t74zbqf/logs</code>"
          },
          "metadata": {}
        }
      ],
      "execution_count": null
    },
    {
      "cell_type": "code",
      "source": [],
      "metadata": {
        "trusted": true,
        "id": "h1HkPqSbF0Lc"
      },
      "outputs": [],
      "execution_count": null
    }
  ]
}